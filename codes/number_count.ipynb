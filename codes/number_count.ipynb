{
 "cells": [
  {
   "cell_type": "code",
   "execution_count": 1,
   "id": "43d6a733",
   "metadata": {},
   "outputs": [
    {
     "name": "stdout",
     "output_type": "stream",
     "text": [
      "Requirement already satisfied: pyspark in c:\\users\\gabri\\appdata\\local\\programs\\python\\python311\\lib\\site-packages (3.5.1)\n",
      "Requirement already satisfied: py4j==0.10.9.7 in c:\\users\\gabri\\appdata\\local\\programs\\python\\python311\\lib\\site-packages (from pyspark) (0.10.9.7)\n",
      "Note: you may need to restart the kernel to use updated packages.\n"
     ]
    },
    {
     "name": "stderr",
     "output_type": "stream",
     "text": [
      "\n",
      "[notice] A new release of pip is available: 23.2.1 -> 24.0\n",
      "[notice] To update, run: python.exe -m pip install --upgrade pip\n"
     ]
    }
   ],
   "source": [
    "%pip install pyspark"
   ]
  },
  {
   "cell_type": "code",
   "execution_count": 2,
   "id": "e690dfa5",
   "metadata": {},
   "outputs": [
    {
     "data": {
      "text/plain": [
       "'3.5.1'"
      ]
     },
     "execution_count": 2,
     "metadata": {},
     "output_type": "execute_result"
    }
   ],
   "source": [
    "from pyspark.sql import SparkSession\n",
    "\n",
    "# Spark entry point\n",
    "spark = SparkSession \\\n",
    "    .builder \\\n",
    "    .appName(\"Engenharia de Dados - Tecnologia de Big Data - Aula 2.2\") \\\n",
    "    .getOrCreate()\n",
    "\n",
    "spark.version\n"
   ]
  },
  {
   "cell_type": "code",
   "execution_count": 3,
   "id": "b831dfd4",
   "metadata": {},
   "outputs": [
    {
     "name": "stdout",
     "output_type": "stream",
     "text": [
      "Number of partitions: 9\n"
     ]
    }
   ],
   "source": [
    "# https://homepages.dcc.ufmg.br/~pcalais/XPE/engenharia-dados/big-data-spark/aulas-gravadas/2.2/NumberCount.ipynb\n",
    "filename = './data/numbers.txt'\n",
    "\n",
    "\n",
    "linesRdd = spark.read.text(filename).rdd.map(lambda r: r[0])\n",
    "print(\"Number of partitions: {}\".format(linesRdd.getNumPartitions()))\n"
   ]
  },
  {
   "cell_type": "code",
   "execution_count": 4,
   "id": "98cfc1a9",
   "metadata": {},
   "outputs": [
    {
     "name": "stdout",
     "output_type": "stream",
     "text": [
      "The end\n"
     ]
    }
   ],
   "source": [
    "from operator import add\n",
    "\n",
    "# 1 9 8 10 1 9 2\n",
    "\n",
    "#=>\n",
    "# 1 2\n",
    "# 9 1\n",
    "# 2 1\n",
    "# ...\n",
    "\n",
    "countsRdd = linesRdd.sample(False, 0.01) \\\n",
    "                    .flatMap(lambda line: line.split(' ')) \\\n",
    "                    .filter(lambda number: int(number) % 2 == 0) \\\n",
    "                    .map(lambda number: (number, 1)) \\\n",
    "                    .reduceByKey(add)\n",
    "\n",
    "print('The end')"
   ]
  },
  {
   "cell_type": "code",
   "execution_count": 5,
   "id": "7c962112",
   "metadata": {},
   "outputs": [
    {
     "name": "stdout",
     "output_type": "stream",
     "text": [
      "4 499439\n",
      "6 499517\n",
      "10 499504\n",
      "0 499086\n",
      "8 498080\n",
      "2 498492\n"
     ]
    }
   ],
   "source": [
    "output = countsRdd.collect()\n",
    "for (number, count) in output:\n",
    "    print(number, count)\n"
   ]
  },
  {
   "cell_type": "code",
   "execution_count": 6,
   "id": "ef110222",
   "metadata": {},
   "outputs": [
    {
     "data": {
      "text/plain": [
       "50000000"
      ]
     },
     "execution_count": 6,
     "metadata": {},
     "output_type": "execute_result"
    }
   ],
   "source": [
    "linesRdd.count()"
   ]
  }
 ],
 "metadata": {
  "kernelspec": {
   "display_name": "Python 3 (ipykernel)",
   "language": "python",
   "name": "python3"
  },
  "language_info": {
   "codemirror_mode": {
    "name": "ipython",
    "version": 3
   },
   "file_extension": ".py",
   "mimetype": "text/x-python",
   "name": "python",
   "nbconvert_exporter": "python",
   "pygments_lexer": "ipython3",
   "version": "3.11.3"
  }
 },
 "nbformat": 4,
 "nbformat_minor": 5
}
