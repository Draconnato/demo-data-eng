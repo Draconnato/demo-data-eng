{
 "cells": [
  {
   "cell_type": "markdown",
   "metadata": {},
   "source": [
    "# Target\n",
    "\n",
    "The main goal of this notebook is exercise two different file types (CSV and Parquet) and exercise the read, write and transform data process using Spark."
   ]
  },
  {
   "cell_type": "code",
   "execution_count": 42,
   "metadata": {},
   "outputs": [],
   "source": [
    "import os\n",
    "from pyspark.sql import SparkSession\n",
    "import pyspark.sql.functions as F"
   ]
  },
  {
   "cell_type": "code",
   "execution_count": 43,
   "metadata": {},
   "outputs": [
    {
     "data": {
      "text/plain": [
       "['2022_Passagem.csv', 'ticket_parquet']"
      ]
     },
     "execution_count": 43,
     "metadata": {},
     "output_type": "execute_result"
    }
   ],
   "source": [
    "dir = \"./data/ticket/\"\n",
    "\n",
    "os.listdir(dir)"
   ]
  },
  {
   "cell_type": "code",
   "execution_count": 44,
   "metadata": {},
   "outputs": [],
   "source": [
    "spark = SparkSession.builder.appName(\"file_types\").getOrCreate()"
   ]
  },
  {
   "cell_type": "code",
   "execution_count": 45,
   "metadata": {},
   "outputs": [],
   "source": [
    "file_name = \"2022_Passagem.csv\"\n",
    "\n",
    "df = spark.read.csv(dir+file_name,header=True, sep=\";\", encoding=\"ISO-8859-1\")"
   ]
  },
  {
   "cell_type": "code",
   "execution_count": 46,
   "metadata": {},
   "outputs": [
    {
     "name": "stdout",
     "output_type": "stream",
     "text": [
      "+-----------------------------------+-------------------------+------------------+-----------------+---------------+-------------------+------------------+----------------+--------------------+-------------------+-----------------+---------------------+--------------------+------------------+----------------------+-----------------+---------------+----------------------+----------------------+\n",
      "|Identificador do processo de viagem|Número da Proposta (PCDP)|Meio de transporte|País - Origem ida|UF - Origem ida|Cidade - Origem ida|País - Destino ida|UF - Destino ida|Cidade - Destino ida|País - Origem volta|UF - Origem volta|Cidade - Origem volta|Pais - Destino volta|UF - Destino volta|Cidade - Destino volta|Valor da passagem|Taxa de serviço|Data da emissão/compra|Hora da emissão/compra|\n",
      "+-----------------------------------+-------------------------+------------------+-----------------+---------------+-------------------+------------------+----------------+--------------------+-------------------+-----------------+---------------------+--------------------+------------------+----------------------+-----------------+---------------+----------------------+----------------------+\n",
      "|                0000000000017563956|             000002/22-2C|             Aéreo|           Brasil|     Pernambuco|             Recife|            Brasil|      Pernambuco| Fernando de Noronha|     Sem Informação|   Sem Informação|       Sem Informação|      Sem Informação|    Sem Informação|        Sem Informação|          1753,24|           0,00|            02/09/2021|                 11:01|\n",
      "|                0000000000017563956|             000002/22-2C|             Aéreo|           Brasil|         Paraná|           Londrina|            Brasil|      Pernambuco| Fernando de Noronha|     Sem Informação|   Sem Informação|       Sem Informação|      Sem Informação|    Sem Informação|        Sem Informação|          1144,24|           0,00|            20/12/2021|                 18:27|\n",
      "|                0000000000017563956|             000002/22-2C|             Aéreo|           Brasil|     Pernambuco|Fernando de Noronha|            Brasil|          Paraná|            Londrina|     Sem Informação|   Sem Informação|       Sem Informação|      Sem Informação|    Sem Informação|        Sem Informação|          1529,86|           0,00|            20/12/2021|                 18:27|\n",
      "|                0000000000017563956|             000002/22-2C|             Aéreo|           Brasil|     Pernambuco|Fernando de Noronha|            Brasil|      Pernambuco|              Recife|     Sem Informação|   Sem Informação|       Sem Informação|      Sem Informação|    Sem Informação|        Sem Informação|          2491,86|           0,00|            02/09/2021|                 11:01|\n",
      "|                0000000000017564009|             000001/22-2C|             Aéreo|           Brasil|     Pernambuco|Fernando de Noronha|            Brasil|      Pernambuco|              Recife|     Sem Informação|   Sem Informação|       Sem Informação|      Sem Informação|    Sem Informação|        Sem Informação|          2491,86|           0,00|            02/09/2021|                 10:58|\n",
      "+-----------------------------------+-------------------------+------------------+-----------------+---------------+-------------------+------------------+----------------+--------------------+-------------------+-----------------+---------------------+--------------------+------------------+----------------------+-----------------+---------------+----------------------+----------------------+\n",
      "only showing top 5 rows\n",
      "\n"
     ]
    }
   ],
   "source": [
    "df.show(5)"
   ]
  },
  {
   "cell_type": "code",
   "execution_count": 47,
   "metadata": {},
   "outputs": [
    {
     "name": "stdout",
     "output_type": "stream",
     "text": [
      "root\n",
      " |-- Identificador do processo de viagem: string (nullable = true)\n",
      " |-- Número da Proposta (PCDP): string (nullable = true)\n",
      " |-- Meio de transporte: string (nullable = true)\n",
      " |-- País - Origem ida: string (nullable = true)\n",
      " |-- UF - Origem ida: string (nullable = true)\n",
      " |-- Cidade - Origem ida: string (nullable = true)\n",
      " |-- País - Destino ida: string (nullable = true)\n",
      " |-- UF - Destino ida: string (nullable = true)\n",
      " |-- Cidade - Destino ida: string (nullable = true)\n",
      " |-- País - Origem volta: string (nullable = true)\n",
      " |-- UF - Origem volta: string (nullable = true)\n",
      " |-- Cidade - Origem volta: string (nullable = true)\n",
      " |-- Pais - Destino volta: string (nullable = true)\n",
      " |-- UF - Destino volta: string (nullable = true)\n",
      " |-- Cidade - Destino volta: string (nullable = true)\n",
      " |-- Valor da passagem: string (nullable = true)\n",
      " |-- Taxa de serviço: string (nullable = true)\n",
      " |-- Data da emissão/compra: string (nullable = true)\n",
      " |-- Hora da emissão/compra: string (nullable = true)\n",
      "\n"
     ]
    }
   ],
   "source": [
    "df.printSchema()"
   ]
  },
  {
   "cell_type": "code",
   "execution_count": 48,
   "metadata": {},
   "outputs": [],
   "source": [
    "df_transformed = df.select([F.col(x).alias(x.replace(\"-\",\"\").replace(\" \",\"_\").replace(\"ç\",\"c\").lower()) for x in df.columns])"
   ]
  },
  {
   "cell_type": "code",
   "execution_count": 49,
   "metadata": {},
   "outputs": [
    {
     "name": "stdout",
     "output_type": "stream",
     "text": [
      "root\n",
      " |-- identificador_do_processo_de_viagem: string (nullable = true)\n",
      " |-- número_da_proposta_(pcdp): string (nullable = true)\n",
      " |-- meio_de_transporte: string (nullable = true)\n",
      " |-- país__origem_ida: string (nullable = true)\n",
      " |-- uf__origem_ida: string (nullable = true)\n",
      " |-- cidade__origem_ida: string (nullable = true)\n",
      " |-- país__destino_ida: string (nullable = true)\n",
      " |-- uf__destino_ida: string (nullable = true)\n",
      " |-- cidade__destino_ida: string (nullable = true)\n",
      " |-- país__origem_volta: string (nullable = true)\n",
      " |-- uf__origem_volta: string (nullable = true)\n",
      " |-- cidade__origem_volta: string (nullable = true)\n",
      " |-- pais__destino_volta: string (nullable = true)\n",
      " |-- uf__destino_volta: string (nullable = true)\n",
      " |-- cidade__destino_volta: string (nullable = true)\n",
      " |-- valor_da_passagem: string (nullable = true)\n",
      " |-- taxa_de_servico: string (nullable = true)\n",
      " |-- data_da_emissão/compra: string (nullable = true)\n",
      " |-- hora_da_emissão/compra: string (nullable = true)\n",
      "\n"
     ]
    }
   ],
   "source": [
    "df_transformed.printSchema()"
   ]
  },
  {
   "cell_type": "code",
   "execution_count": 50,
   "metadata": {},
   "outputs": [],
   "source": [
    "df_transformed = df_transformed\\\n",
    "    .withColumn(\"valor_da_passagem\",F.expr(\"cast(replace(valor_da_passagem,',','.') as float)\"))\\\n",
    "    .withColumn(\"taxa_de_servico\",F.expr(\"cast(replace(taxa_de_servico,',','.') as float)\"))"
   ]
  },
  {
   "cell_type": "code",
   "execution_count": 51,
   "metadata": {},
   "outputs": [
    {
     "name": "stdout",
     "output_type": "stream",
     "text": [
      "root\n",
      " |-- identificador_do_processo_de_viagem: string (nullable = true)\n",
      " |-- número_da_proposta_(pcdp): string (nullable = true)\n",
      " |-- meio_de_transporte: string (nullable = true)\n",
      " |-- país__origem_ida: string (nullable = true)\n",
      " |-- uf__origem_ida: string (nullable = true)\n",
      " |-- cidade__origem_ida: string (nullable = true)\n",
      " |-- país__destino_ida: string (nullable = true)\n",
      " |-- uf__destino_ida: string (nullable = true)\n",
      " |-- cidade__destino_ida: string (nullable = true)\n",
      " |-- país__origem_volta: string (nullable = true)\n",
      " |-- uf__origem_volta: string (nullable = true)\n",
      " |-- cidade__origem_volta: string (nullable = true)\n",
      " |-- pais__destino_volta: string (nullable = true)\n",
      " |-- uf__destino_volta: string (nullable = true)\n",
      " |-- cidade__destino_volta: string (nullable = true)\n",
      " |-- valor_da_passagem: float (nullable = true)\n",
      " |-- taxa_de_servico: float (nullable = true)\n",
      " |-- data_da_emissão/compra: string (nullable = true)\n",
      " |-- hora_da_emissão/compra: string (nullable = true)\n",
      "\n"
     ]
    }
   ],
   "source": [
    "df_transformed.printSchema()"
   ]
  },
  {
   "cell_type": "code",
   "execution_count": 52,
   "metadata": {},
   "outputs": [
    {
     "name": "stdout",
     "output_type": "stream",
     "text": [
      "+-----------------------------------+-------------------------+------------------+----------------+--------------+-------------------+-----------------+---------------+-------------------+------------------+----------------+--------------------+-------------------+-----------------+---------------------+-----------------+---------------+----------------------+----------------------+\n",
      "|identificador_do_processo_de_viagem|número_da_proposta_(pcdp)|meio_de_transporte|país__origem_ida|uf__origem_ida| cidade__origem_ida|país__destino_ida|uf__destino_ida|cidade__destino_ida|país__origem_volta|uf__origem_volta|cidade__origem_volta|pais__destino_volta|uf__destino_volta|cidade__destino_volta|valor_da_passagem|taxa_de_servico|data_da_emissão/compra|hora_da_emissão/compra|\n",
      "+-----------------------------------+-------------------------+------------------+----------------+--------------+-------------------+-----------------+---------------+-------------------+------------------+----------------+--------------------+-------------------+-----------------+---------------------+-----------------+---------------+----------------------+----------------------+\n",
      "|                0000000000017563956|             000002/22-2C|             Aéreo|          Brasil|    Pernambuco|             Recife|           Brasil|     Pernambuco|Fernando de Noronha|    Sem Informação|  Sem Informação|      Sem Informação|     Sem Informação|   Sem Informação|       Sem Informação|          1753.24|            0.0|            02/09/2021|                 11:01|\n",
      "|                0000000000017563956|             000002/22-2C|             Aéreo|          Brasil|        Paraná|           Londrina|           Brasil|     Pernambuco|Fernando de Noronha|    Sem Informação|  Sem Informação|      Sem Informação|     Sem Informação|   Sem Informação|       Sem Informação|          1144.24|            0.0|            20/12/2021|                 18:27|\n",
      "|                0000000000017563956|             000002/22-2C|             Aéreo|          Brasil|    Pernambuco|Fernando de Noronha|           Brasil|         Paraná|           Londrina|    Sem Informação|  Sem Informação|      Sem Informação|     Sem Informação|   Sem Informação|       Sem Informação|          1529.86|            0.0|            20/12/2021|                 18:27|\n",
      "|                0000000000017563956|             000002/22-2C|             Aéreo|          Brasil|    Pernambuco|Fernando de Noronha|           Brasil|     Pernambuco|             Recife|    Sem Informação|  Sem Informação|      Sem Informação|     Sem Informação|   Sem Informação|       Sem Informação|          2491.86|            0.0|            02/09/2021|                 11:01|\n",
      "|                0000000000017564009|             000001/22-2C|             Aéreo|          Brasil|    Pernambuco|Fernando de Noronha|           Brasil|     Pernambuco|             Recife|    Sem Informação|  Sem Informação|      Sem Informação|     Sem Informação|   Sem Informação|       Sem Informação|          2491.86|            0.0|            02/09/2021|                 10:58|\n",
      "+-----------------------------------+-------------------------+------------------+----------------+--------------+-------------------+-----------------+---------------+-------------------+------------------+----------------+--------------------+-------------------+-----------------+---------------------+-----------------+---------------+----------------------+----------------------+\n",
      "only showing top 5 rows\n",
      "\n"
     ]
    }
   ],
   "source": [
    "df_transformed.show(5)"
   ]
  },
  {
   "cell_type": "code",
   "execution_count": 53,
   "metadata": {},
   "outputs": [],
   "source": [
    "df_transformed.write.mode(\"overwrite\").parquet(\"./data/ticket/ticket_parquet\")"
   ]
  },
  {
   "cell_type": "code",
   "execution_count": 54,
   "metadata": {},
   "outputs": [
    {
     "data": {
      "text/plain": [
       "['2022_Passagem.csv', 'ticket_parquet']"
      ]
     },
     "execution_count": 54,
     "metadata": {},
     "output_type": "execute_result"
    }
   ],
   "source": [
    "os.listdir(dir)"
   ]
  },
  {
   "cell_type": "code",
   "execution_count": 62,
   "metadata": {},
   "outputs": [
    {
     "name": "stdout",
     "output_type": "stream",
     "text": [
      "Size of CSV file:  68818335 \n",
      "Size of parquet file:  8192\n"
     ]
    }
   ],
   "source": [
    "print('Size of CSV file: ',os.path.getsize(dir+file_name),'\\nSize of parquet file: ',os.path.getsize('./data/ticket/ticket_parquet'))"
   ]
  },
  {
   "cell_type": "code",
   "execution_count": 61,
   "metadata": {},
   "outputs": [
    {
     "name": "stdout",
     "output_type": "stream",
     "text": [
      "root\n",
      " |-- identificador_do_processo_de_viagem: string (nullable = true)\n",
      " |-- número_da_proposta_(pcdp): string (nullable = true)\n",
      " |-- meio_de_transporte: string (nullable = true)\n",
      " |-- país__origem_ida: string (nullable = true)\n",
      " |-- uf__origem_ida: string (nullable = true)\n",
      " |-- cidade__origem_ida: string (nullable = true)\n",
      " |-- país__destino_ida: string (nullable = true)\n",
      " |-- uf__destino_ida: string (nullable = true)\n",
      " |-- cidade__destino_ida: string (nullable = true)\n",
      " |-- país__origem_volta: string (nullable = true)\n",
      " |-- uf__origem_volta: string (nullable = true)\n",
      " |-- cidade__origem_volta: string (nullable = true)\n",
      " |-- pais__destino_volta: string (nullable = true)\n",
      " |-- uf__destino_volta: string (nullable = true)\n",
      " |-- cidade__destino_volta: string (nullable = true)\n",
      " |-- valor_da_passagem: float (nullable = true)\n",
      " |-- taxa_de_servico: float (nullable = true)\n",
      " |-- data_da_emissão/compra: string (nullable = true)\n",
      " |-- hora_da_emissão/compra: string (nullable = true)\n",
      "\n"
     ]
    }
   ],
   "source": [
    "df_pqt = spark.read.parquet('./data/ticket/ticket_parquet')\n",
    "\n",
    "df_pqt.printSchema()"
   ]
  }
 ],
 "metadata": {
  "kernelspec": {
   "display_name": "Python 3",
   "language": "python",
   "name": "python3"
  },
  "language_info": {
   "codemirror_mode": {
    "name": "ipython",
    "version": 3
   },
   "file_extension": ".py",
   "mimetype": "text/x-python",
   "name": "python",
   "nbconvert_exporter": "python",
   "pygments_lexer": "ipython3",
   "version": "3.11.3"
  },
  "orig_nbformat": 4
 },
 "nbformat": 4,
 "nbformat_minor": 2
}
