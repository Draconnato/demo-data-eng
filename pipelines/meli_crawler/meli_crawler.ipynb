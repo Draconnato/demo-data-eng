{
 "cells": [
  {
   "cell_type": "code",
   "execution_count": 70,
   "metadata": {},
   "outputs": [],
   "source": [
    "import requests\n",
    "from bs4 import BeautifulSoup\n",
    "import pandas as pd\n",
    "import time"
   ]
  },
  {
   "cell_type": "code",
   "execution_count": 36,
   "metadata": {},
   "outputs": [],
   "source": [
    "URL = 'https://www.mercadolivre.com.br/ofertas?container_id=MLB779362-1&page='\n",
    "\n",
    "data = requests.get(URL).text"
   ]
  },
  {
   "cell_type": "code",
   "execution_count": 5,
   "metadata": {},
   "outputs": [
    {
     "data": {
      "text/plain": [
       "str"
      ]
     },
     "execution_count": 5,
     "metadata": {},
     "output_type": "execute_result"
    }
   ],
   "source": [
    "type(data)"
   ]
  },
  {
   "cell_type": "code",
   "execution_count": 37,
   "metadata": {},
   "outputs": [],
   "source": [
    "with open('./data/mercadolivreoferdia.html','w', encoding='utf-8') as f:\n",
    "    f.write(data)"
   ]
  },
  {
   "cell_type": "code",
   "execution_count": 43,
   "metadata": {},
   "outputs": [],
   "source": [
    "def get_items_title(doc):\n",
    "    \"\"\"\n",
    "        Return the title of products from tags\n",
    "    \"\"\"\n",
    "    title_tags = doc.find_all('p',class_='promotion-item__title')\n",
    "    titles = []\n",
    "\n",
    "    for tags in title_tags:\n",
    "        titles.append(tags.text)\n",
    "\n",
    "    return titles"
   ]
  },
  {
   "cell_type": "code",
   "execution_count": 50,
   "metadata": {},
   "outputs": [],
   "source": [
    "# BUG - Considering the previous price as a real price, duplicating the array of data.\n",
    "def get_items_price(doc):\n",
    "    \"\"\"\n",
    "        Return the price of products from tags\n",
    "    \"\"\"\n",
    "    price_tags = doc.find_all('span',class_='andes-money-amount__fraction')\n",
    "    prices = []\n",
    "\n",
    "    for tags in price_tags:\n",
    "        prices.append(tags.text)\n",
    "\n",
    "    return prices"
   ]
  },
  {
   "cell_type": "code",
   "execution_count": 71,
   "metadata": {},
   "outputs": [],
   "source": [
    "def get_doc(url):\n",
    "    \"\"\"\n",
    "        Return the html parsed instance.\n",
    "    \"\"\"\n",
    "    time.sleep(1)\n",
    "    response =  requests.get(url)\n",
    "    doc = BeautifulSoup(response.text,'html.parser')\n",
    "\n",
    "    if response.status_code != 200:\n",
    "        raise Exception(\"Failure to load the page!\") \n",
    "\n",
    "    return doc"
   ]
  },
  {
   "cell_type": "code",
   "execution_count": 61,
   "metadata": {},
   "outputs": [],
   "source": [
    "def scrape_multiple_pages(n):\n",
    "    titles, prices = [] , [] \n",
    "\n",
    "    for page in range(1, n+1):\n",
    "        doc = get_doc(URL + str(page))\n",
    "        titles.extend(get_items_title(doc))\n",
    "        prices.extend(get_items_price(doc))\n",
    "\n",
    "    items = {\n",
    "        'TITLE': titles,\n",
    "        'PRICE': prices\n",
    "    }\n",
    "\n",
    "    return pd.DataFrame.from_dict(items,orient='index').transpose()"
   ]
  },
  {
   "cell_type": "code",
   "execution_count": 72,
   "metadata": {},
   "outputs": [
    {
     "data": {
      "text/html": [
       "<div>\n",
       "<style scoped>\n",
       "    .dataframe tbody tr th:only-of-type {\n",
       "        vertical-align: middle;\n",
       "    }\n",
       "\n",
       "    .dataframe tbody tr th {\n",
       "        vertical-align: top;\n",
       "    }\n",
       "\n",
       "    .dataframe thead th {\n",
       "        text-align: right;\n",
       "    }\n",
       "</style>\n",
       "<table border=\"1\" class=\"dataframe\">\n",
       "  <thead>\n",
       "    <tr style=\"text-align: right;\">\n",
       "      <th></th>\n",
       "      <th>TITLE</th>\n",
       "      <th>PRICE</th>\n",
       "    </tr>\n",
       "  </thead>\n",
       "  <tbody>\n",
       "    <tr>\n",
       "      <th>0</th>\n",
       "      <td>Motorola Moto G04 Grafite 128gb Dual Sim 4gb R...</td>\n",
       "      <td>699</td>\n",
       "    </tr>\n",
       "    <tr>\n",
       "      <th>1</th>\n",
       "      <td>Samsung Smart Tv 43  Crystal Uhd 4k 43du8000 2024</td>\n",
       "      <td>849</td>\n",
       "    </tr>\n",
       "    <tr>\n",
       "      <th>2</th>\n",
       "      <td>Geladeira frost free Electrolux DFN41 branca c...</td>\n",
       "      <td>1.815</td>\n",
       "    </tr>\n",
       "    <tr>\n",
       "      <th>3</th>\n",
       "      <td>Notebook Dell Inspiron I15-i120k-a30pf I5 16gb...</td>\n",
       "      <td>2.199</td>\n",
       "    </tr>\n",
       "    <tr>\n",
       "      <th>4</th>\n",
       "      <td>Loção hidratante Cerave Com Ácido Hialurônico ...</td>\n",
       "      <td>2.699</td>\n",
       "    </tr>\n",
       "  </tbody>\n",
       "</table>\n",
       "</div>"
      ],
      "text/plain": [
       "                                               TITLE  PRICE\n",
       "0  Motorola Moto G04 Grafite 128gb Dual Sim 4gb R...    699\n",
       "1  Samsung Smart Tv 43  Crystal Uhd 4k 43du8000 2024    849\n",
       "2  Geladeira frost free Electrolux DFN41 branca c...  1.815\n",
       "3  Notebook Dell Inspiron I15-i120k-a30pf I5 16gb...  2.199\n",
       "4  Loção hidratante Cerave Com Ácido Hialurônico ...  2.699"
      ]
     },
     "execution_count": 72,
     "metadata": {},
     "output_type": "execute_result"
    }
   ],
   "source": [
    "df = scrape_multiple_pages(10)\n",
    "\n",
    "df.head()"
   ]
  },
  {
   "cell_type": "code",
   "execution_count": 73,
   "metadata": {},
   "outputs": [],
   "source": [
    "df.to_csv(\"./data/mercado_livre.csv\")"
   ]
  }
 ],
 "metadata": {
  "kernelspec": {
   "display_name": "Python 3",
   "language": "python",
   "name": "python3"
  },
  "language_info": {
   "codemirror_mode": {
    "name": "ipython",
    "version": 3
   },
   "file_extension": ".py",
   "mimetype": "text/x-python",
   "name": "python",
   "nbconvert_exporter": "python",
   "pygments_lexer": "ipython3",
   "version": "3.11.3"
  },
  "orig_nbformat": 4
 },
 "nbformat": 4,
 "nbformat_minor": 2
}
