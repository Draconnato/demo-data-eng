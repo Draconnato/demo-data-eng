{
 "cells": [
  {
   "cell_type": "code",
   "execution_count": 1,
   "metadata": {},
   "outputs": [],
   "source": [
    "import requests\n",
    "from bs4 import BeautifulSoup\n",
    "import pandas as pd\n",
    "import time"
   ]
  },
  {
   "cell_type": "code",
   "execution_count": 2,
   "metadata": {},
   "outputs": [],
   "source": [
    "URL = 'https://www.mercadolivre.com.br/ofertas?container_id=MLB779362-1&page='\n",
    "\n",
    "data = requests.get(URL).text"
   ]
  },
  {
   "cell_type": "code",
   "execution_count": 3,
   "metadata": {},
   "outputs": [
    {
     "data": {
      "text/plain": [
       "str"
      ]
     },
     "execution_count": 3,
     "metadata": {},
     "output_type": "execute_result"
    }
   ],
   "source": [
    "type(data)"
   ]
  },
  {
   "cell_type": "code",
   "execution_count": 4,
   "metadata": {},
   "outputs": [],
   "source": [
    "with open('./data/mercadolivreoferdia.html','w', encoding='utf-8') as f:\n",
    "    f.write(data)"
   ]
  },
  {
   "cell_type": "code",
   "execution_count": 5,
   "metadata": {},
   "outputs": [],
   "source": [
    "def get_items_title(doc):\n",
    "    \"\"\"\n",
    "        Return the title of products from tags\n",
    "    \"\"\"\n",
    "    title_tags = doc.find_all('p',class_='promotion-item__title')\n",
    "    titles = []\n",
    "\n",
    "    for tags in title_tags:\n",
    "        titles.append(tags.text)\n",
    "\n",
    "    return titles"
   ]
  },
  {
   "cell_type": "code",
   "execution_count": 6,
   "metadata": {},
   "outputs": [],
   "source": [
    "# BUG - Considering the previous price as a real price, duplicating the array of data.\n",
    "def get_items_price(doc):\n",
    "    \"\"\"\n",
    "        Return the price of products from tags\n",
    "    \"\"\"\n",
    "    prices = []\n",
    "\n",
    "    price_parent_tags = doc.find_all('span',class_='andes-money-amount andes-money-amount--cents-superscript')\n",
    "    \n",
    "    for child in price_parent_tags: \n",
    "        prices.append(child.find('span',class_='andes-money-amount__fraction').text)\n",
    "\n",
    "    return prices"
   ]
  },
  {
   "cell_type": "code",
   "execution_count": 7,
   "metadata": {},
   "outputs": [],
   "source": [
    "def get_doc(url):\n",
    "    \"\"\"\n",
    "        Return the html parsed instance.\n",
    "    \"\"\"\n",
    "    time.sleep(1)\n",
    "    response =  requests.get(url)\n",
    "    doc = BeautifulSoup(response.text,'html.parser')\n",
    "\n",
    "    if response.status_code != 200:\n",
    "        raise Exception(\"Failure to load the page!\") \n",
    "\n",
    "    return doc"
   ]
  },
  {
   "cell_type": "code",
   "execution_count": 8,
   "metadata": {},
   "outputs": [],
   "source": [
    "def scrape_multiple_pages(n):\n",
    "    titles, prices = [] , [] \n",
    "\n",
    "    for page in range(1, n+1):\n",
    "        doc = get_doc(URL + str(page))\n",
    "        titles.extend(get_items_title(doc))\n",
    "        prices.extend(get_items_price(doc))\n",
    "\n",
    "    items = {\n",
    "        'TITLE': titles,\n",
    "        'PRICE': prices\n",
    "    }\n",
    "\n",
    "    # return pd.DataFrame.from_dict(items,orient='index').transpose()\n",
    "    return pd.DataFrame(items)"
   ]
  },
  {
   "cell_type": "code",
   "execution_count": 9,
   "metadata": {},
   "outputs": [
    {
     "data": {
      "text/html": [
       "<div>\n",
       "<style scoped>\n",
       "    .dataframe tbody tr th:only-of-type {\n",
       "        vertical-align: middle;\n",
       "    }\n",
       "\n",
       "    .dataframe tbody tr th {\n",
       "        vertical-align: top;\n",
       "    }\n",
       "\n",
       "    .dataframe thead th {\n",
       "        text-align: right;\n",
       "    }\n",
       "</style>\n",
       "<table border=\"1\" class=\"dataframe\">\n",
       "  <thead>\n",
       "    <tr style=\"text-align: right;\">\n",
       "      <th></th>\n",
       "      <th>TITLE</th>\n",
       "      <th>PRICE</th>\n",
       "    </tr>\n",
       "  </thead>\n",
       "  <tbody>\n",
       "    <tr>\n",
       "      <th>0</th>\n",
       "      <td>Samsung Galaxy A15 4G Dual SIM 128 GB Azul cla...</td>\n",
       "      <td>879</td>\n",
       "    </tr>\n",
       "    <tr>\n",
       "      <th>1</th>\n",
       "      <td>Console Sony PlayStation 5 Standard Edition 825GB</td>\n",
       "      <td>3.543</td>\n",
       "    </tr>\n",
       "    <tr>\n",
       "      <th>2</th>\n",
       "      <td>Kit Com 5 Camisetas Masculinas Básicas Hering</td>\n",
       "      <td>127</td>\n",
       "    </tr>\n",
       "    <tr>\n",
       "      <th>3</th>\n",
       "      <td>Smart Tv LG 50 Led 4k Uhd Wi-fi Bluetooth Hdr1...</td>\n",
       "      <td>2.129</td>\n",
       "    </tr>\n",
       "    <tr>\n",
       "      <th>4</th>\n",
       "      <td>Gel De Limpeza Facial Effaclar Concentrado 300...</td>\n",
       "      <td>65</td>\n",
       "    </tr>\n",
       "  </tbody>\n",
       "</table>\n",
       "</div>"
      ],
      "text/plain": [
       "                                               TITLE  PRICE\n",
       "0  Samsung Galaxy A15 4G Dual SIM 128 GB Azul cla...    879\n",
       "1  Console Sony PlayStation 5 Standard Edition 825GB  3.543\n",
       "2     Kit Com 5 Camisetas Masculinas Básicas Hering     127\n",
       "3  Smart Tv LG 50 Led 4k Uhd Wi-fi Bluetooth Hdr1...  2.129\n",
       "4  Gel De Limpeza Facial Effaclar Concentrado 300...     65"
      ]
     },
     "execution_count": 9,
     "metadata": {},
     "output_type": "execute_result"
    }
   ],
   "source": [
    "df = scrape_multiple_pages(10)\n",
    "\n",
    "df.head()"
   ]
  },
  {
   "cell_type": "code",
   "execution_count": 10,
   "metadata": {},
   "outputs": [],
   "source": [
    "df.to_csv(\"./data/mercado_livre.csv\",mode='w',index=False)"
   ]
  }
 ],
 "metadata": {
  "kernelspec": {
   "display_name": "Python 3",
   "language": "python",
   "name": "python3"
  },
  "language_info": {
   "codemirror_mode": {
    "name": "ipython",
    "version": 3
   },
   "file_extension": ".py",
   "mimetype": "text/x-python",
   "name": "python",
   "nbconvert_exporter": "python",
   "pygments_lexer": "ipython3",
   "version": "3.11.3"
  },
  "orig_nbformat": 4
 },
 "nbformat": 4,
 "nbformat_minor": 2
}
