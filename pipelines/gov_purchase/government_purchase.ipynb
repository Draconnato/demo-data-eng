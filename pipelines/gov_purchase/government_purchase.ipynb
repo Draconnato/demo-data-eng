{
 "cells": [
  {
   "cell_type": "markdown",
   "metadata": {},
   "source": [
    "# Target\n",
    "\n",
    "This is the target of this notebook:\n",
    "- Extract public data from government purchase\n",
    "- Transform the data\n",
    "- Load the data into a file"
   ]
  },
  {
   "cell_type": "markdown",
   "metadata": {},
   "source": [
    "# Install and import the libraries"
   ]
  },
  {
   "cell_type": "code",
   "execution_count": 14,
   "metadata": {},
   "outputs": [
    {
     "name": "stdout",
     "output_type": "stream",
     "text": [
      "Requirement already satisfied: pyspark in c:\\users\\gabri\\appdata\\local\\programs\\python\\python311\\lib\\site-packages (3.5.1)\n",
      "Requirement already satisfied: pandas in c:\\users\\gabri\\appdata\\local\\programs\\python\\python311\\lib\\site-packages (2.2.2)\n",
      "Requirement already satisfied: py4j==0.10.9.7 in c:\\users\\gabri\\appdata\\local\\programs\\python\\python311\\lib\\site-packages (from pyspark) (0.10.9.7)\n",
      "Requirement already satisfied: numpy>=1.23.2 in c:\\users\\gabri\\appdata\\local\\programs\\python\\python311\\lib\\site-packages (from pandas) (1.26.4)\n",
      "Requirement already satisfied: python-dateutil>=2.8.2 in c:\\users\\gabri\\appdata\\roaming\\python\\python311\\site-packages (from pandas) (2.8.2)\n",
      "Requirement already satisfied: pytz>=2020.1 in c:\\users\\gabri\\appdata\\local\\programs\\python\\python311\\lib\\site-packages (from pandas) (2024.1)\n",
      "Requirement already satisfied: tzdata>=2022.7 in c:\\users\\gabri\\appdata\\local\\programs\\python\\python311\\lib\\site-packages (from pandas) (2024.1)\n",
      "Requirement already satisfied: six>=1.5 in c:\\users\\gabri\\appdata\\roaming\\python\\python311\\site-packages (from python-dateutil>=2.8.2->pandas) (1.16.0)\n"
     ]
    },
    {
     "name": "stderr",
     "output_type": "stream",
     "text": [
      "\n",
      "[notice] A new release of pip is available: 23.2.1 -> 24.0\n",
      "[notice] To update, run: python.exe -m pip install --upgrade pip\n"
     ]
    }
   ],
   "source": [
    "! pip install pyspark pandas"
   ]
  },
  {
   "cell_type": "code",
   "execution_count": 15,
   "metadata": {},
   "outputs": [],
   "source": [
    "import requests\n",
    "import io\n",
    "import pandas as pd\n",
    "from pyspark.sql import SparkSession"
   ]
  },
  {
   "cell_type": "markdown",
   "metadata": {},
   "source": [
    "# Extract public data"
   ]
  },
  {
   "cell_type": "code",
   "execution_count": 16,
   "metadata": {},
   "outputs": [],
   "source": [
    "url = 'http://compras.dados.gov.br/servicos/v1/servicos.csv?descricao=educação'"
   ]
  },
  {
   "cell_type": "code",
   "execution_count": 17,
   "metadata": {},
   "outputs": [],
   "source": [
    "data = requests.get(url).content"
   ]
  },
  {
   "cell_type": "code",
   "execution_count": 18,
   "metadata": {},
   "outputs": [
    {
     "data": {
      "text/plain": [
       "bytes"
      ]
     },
     "execution_count": 18,
     "metadata": {},
     "output_type": "execute_result"
    }
   ],
   "source": [
    "type(data)"
   ]
  },
  {
   "cell_type": "markdown",
   "metadata": {},
   "source": [
    "# Transforming the data"
   ]
  },
  {
   "cell_type": "markdown",
   "metadata": {},
   "source": [
    "#### Pandas\n",
    "- Non distributed data processing"
   ]
  },
  {
   "cell_type": "code",
   "execution_count": 19,
   "metadata": {},
   "outputs": [],
   "source": [
    "parse_data = io.StringIO(data.decode(\"UTF-8\"))"
   ]
  },
  {
   "cell_type": "code",
   "execution_count": 20,
   "metadata": {},
   "outputs": [],
   "source": [
    "df_pandas = pd.read_csv(parse_data)"
   ]
  },
  {
   "cell_type": "code",
   "execution_count": 21,
   "metadata": {},
   "outputs": [
    {
     "data": {
      "text/html": [
       "<div>\n",
       "<style scoped>\n",
       "    .dataframe tbody tr th:only-of-type {\n",
       "        vertical-align: middle;\n",
       "    }\n",
       "\n",
       "    .dataframe tbody tr th {\n",
       "        vertical-align: top;\n",
       "    }\n",
       "\n",
       "    .dataframe thead th {\n",
       "        text-align: right;\n",
       "    }\n",
       "</style>\n",
       "<table border=\"1\" class=\"dataframe\">\n",
       "  <thead>\n",
       "    <tr style=\"text-align: right;\">\n",
       "      <th></th>\n",
       "      <th>Código</th>\n",
       "      <th>Descrição</th>\n",
       "      <th>Unidade medida</th>\n",
       "      <th>CPC</th>\n",
       "      <th>Seção</th>\n",
       "      <th>Divisão</th>\n",
       "      <th>Grupo</th>\n",
       "      <th>Classe</th>\n",
       "      <th>Subclasse</th>\n",
       "    </tr>\n",
       "  </thead>\n",
       "  <tbody>\n",
       "    <tr>\n",
       "      <th>0</th>\n",
       "      <td>14311</td>\n",
       "      <td>Orientação / Educação - Atividade Física      ...</td>\n",
       "      <td>UNHOMEM/H MÊS</td>\n",
       "      <td>9659</td>\n",
       "      <td>9: SERVIÇOS DA COMUNIDADE, PESSOAIS E SOCIAIS ...</td>\n",
       "      <td>96: SERVIÇOS RECREACIONAIS, CULTURAIS E ESPORT...</td>\n",
       "      <td>965: SERVIÇOS RELACIONADOS COM ESPORTES E SERV...</td>\n",
       "      <td>9659: OUTROS ESPORTES E SERVIÇOS DE ESPORTES R...</td>\n",
       "      <td>NaN</td>\n",
       "    </tr>\n",
       "    <tr>\n",
       "      <th>1</th>\n",
       "      <td>15946</td>\n",
       "      <td>Serviço Penitenciário - Reeducação e Reabilita...</td>\n",
       "      <td>UN</td>\n",
       "      <td>979</td>\n",
       "      <td>9: SERVIÇOS DA COMUNIDADE, PESSOAIS E SOCIAIS ...</td>\n",
       "      <td>97: OUTROS SERVIÇOS                           ...</td>\n",
       "      <td>979: OUTROS SERVIÇOS DIVERSOS/MISCELÂNEA      ...</td>\n",
       "      <td>NaN</td>\n",
       "      <td>NaN</td>\n",
       "    </tr>\n",
       "    <tr>\n",
       "      <th>2</th>\n",
       "      <td>18481</td>\n",
       "      <td>Consultoria e Assessoria - Educação           ...</td>\n",
       "      <td>UN</td>\n",
       "      <td>8319</td>\n",
       "      <td>8: SERVIÇOS DE ARQUITETURA, DESENHOS TÉCNICOS,...</td>\n",
       "      <td>83: OUTROS SERVIÇOS DE NEGÓCIOS, TÉCNICOS E PR...</td>\n",
       "      <td>831: SERVIÇOS DE CONSULTORIA E DE GERÊNCIA/GES...</td>\n",
       "      <td>8319: OUTROS SERVIÇOS DE GERÊNCIA/GESTÃO, EXCE...</td>\n",
       "      <td>NaN</td>\n",
       "    </tr>\n",
       "    <tr>\n",
       "      <th>3</th>\n",
       "      <td>19321</td>\n",
       "      <td>Curso / Treinamento Educação - Distância      ...</td>\n",
       "      <td>UN</td>\n",
       "      <td>929</td>\n",
       "      <td>9: SERVIÇOS DA COMUNIDADE, PESSOAIS E SOCIAIS ...</td>\n",
       "      <td>92: SERVIÇOS DA INSTRUÇÃO/ EDUCAÇÃO/ ENSINO   ...</td>\n",
       "      <td>929: OUTROS SERVIÇOS DE EDUCAÇÃO E TREINAMENTO...</td>\n",
       "      <td>NaN</td>\n",
       "      <td>NaN</td>\n",
       "    </tr>\n",
       "  </tbody>\n",
       "</table>\n",
       "</div>"
      ],
      "text/plain": [
       "   Código                                          Descrição Unidade medida  \\\n",
       "0   14311  Orientação / Educação - Atividade Física      ...  UNHOMEM/H MÊS   \n",
       "1   15946  Serviço Penitenciário - Reeducação e Reabilita...             UN   \n",
       "2   18481  Consultoria e Assessoria - Educação           ...             UN   \n",
       "3   19321  Curso / Treinamento Educação - Distância      ...             UN   \n",
       "\n",
       "    CPC                                              Seção  \\\n",
       "0  9659  9: SERVIÇOS DA COMUNIDADE, PESSOAIS E SOCIAIS ...   \n",
       "1   979  9: SERVIÇOS DA COMUNIDADE, PESSOAIS E SOCIAIS ...   \n",
       "2  8319  8: SERVIÇOS DE ARQUITETURA, DESENHOS TÉCNICOS,...   \n",
       "3   929  9: SERVIÇOS DA COMUNIDADE, PESSOAIS E SOCIAIS ...   \n",
       "\n",
       "                                             Divisão  \\\n",
       "0  96: SERVIÇOS RECREACIONAIS, CULTURAIS E ESPORT...   \n",
       "1  97: OUTROS SERVIÇOS                           ...   \n",
       "2  83: OUTROS SERVIÇOS DE NEGÓCIOS, TÉCNICOS E PR...   \n",
       "3  92: SERVIÇOS DA INSTRUÇÃO/ EDUCAÇÃO/ ENSINO   ...   \n",
       "\n",
       "                                               Grupo  \\\n",
       "0  965: SERVIÇOS RELACIONADOS COM ESPORTES E SERV...   \n",
       "1  979: OUTROS SERVIÇOS DIVERSOS/MISCELÂNEA      ...   \n",
       "2  831: SERVIÇOS DE CONSULTORIA E DE GERÊNCIA/GES...   \n",
       "3  929: OUTROS SERVIÇOS DE EDUCAÇÃO E TREINAMENTO...   \n",
       "\n",
       "                                              Classe  Subclasse  \n",
       "0  9659: OUTROS ESPORTES E SERVIÇOS DE ESPORTES R...        NaN  \n",
       "1                                                NaN        NaN  \n",
       "2  8319: OUTROS SERVIÇOS DE GERÊNCIA/GESTÃO, EXCE...        NaN  \n",
       "3                                                NaN        NaN  "
      ]
     },
     "execution_count": 21,
     "metadata": {},
     "output_type": "execute_result"
    }
   ],
   "source": [
    "df_pandas.head()"
   ]
  },
  {
   "cell_type": "markdown",
   "metadata": {},
   "source": [
    "## Spark\n",
    "- Distributed data processing"
   ]
  },
  {
   "cell_type": "code",
   "execution_count": 22,
   "metadata": {},
   "outputs": [],
   "source": [
    "spark = SparkSession.builder.appName(\"government_purchase\").getOrCreate()"
   ]
  },
  {
   "cell_type": "code",
   "execution_count": 23,
   "metadata": {},
   "outputs": [],
   "source": [
    "df = spark.createDataFrame(df_pandas)"
   ]
  },
  {
   "cell_type": "code",
   "execution_count": 24,
   "metadata": {},
   "outputs": [
    {
     "name": "stdout",
     "output_type": "stream",
     "text": [
      "root\n",
      " |-- Código: long (nullable = true)\n",
      " |-- Descrição: string (nullable = true)\n",
      " |-- Unidade medida: string (nullable = true)\n",
      " |-- CPC: long (nullable = true)\n",
      " |-- Seção: string (nullable = true)\n",
      " |-- Divisão: string (nullable = true)\n",
      " |-- Grupo: string (nullable = true)\n",
      " |-- Classe: string (nullable = true)\n",
      " |-- Subclasse: double (nullable = true)\n",
      "\n"
     ]
    }
   ],
   "source": [
    "df.printSchema()"
   ]
  },
  {
   "cell_type": "code",
   "execution_count": 25,
   "metadata": {},
   "outputs": [
    {
     "name": "stdout",
     "output_type": "stream",
     "text": [
      "+------+--------------------+--------------+----+--------------------+--------------------+--------------------+--------------------+---------+\n",
      "|Código|           Descrição|Unidade medida| CPC|               Seção|             Divisão|               Grupo|              Classe|Subclasse|\n",
      "+------+--------------------+--------------+----+--------------------+--------------------+--------------------+--------------------+---------+\n",
      "| 14311|Orientação / Educ...| UNHOMEM/H MÊS|9659|9: SERVIÇOS DA CO...|96: SERVIÇOS RECR...|965: SERVIÇOS REL...|9659: OUTROS ESPO...|      NaN|\n",
      "| 15946|Serviço Penitenci...|            UN| 979|9: SERVIÇOS DA CO...|97: OUTROS SERVIÇ...|979: OUTROS SERVI...|                 NaN|      NaN|\n",
      "| 18481|Consultoria e Ass...|            UN|8319|8: SERVIÇOS DE AR...|83: OUTROS SERVIÇ...|831: SERVIÇOS DE ...|8319: OUTROS SERV...|      NaN|\n",
      "| 19321|Curso / Treinamen...|            UN| 929|9: SERVIÇOS DA CO...|92: SERVIÇOS DA I...|929: OUTROS SERVI...|                 NaN|      NaN|\n",
      "+------+--------------------+--------------+----+--------------------+--------------------+--------------------+--------------------+---------+\n",
      "\n"
     ]
    }
   ],
   "source": [
    "df.show(20)"
   ]
  },
  {
   "cell_type": "code",
   "execution_count": 26,
   "metadata": {},
   "outputs": [
    {
     "data": {
      "text/plain": [
       "['Código',\n",
       " 'Descrição',\n",
       " 'Unidade medida',\n",
       " 'CPC',\n",
       " 'Seção',\n",
       " 'Divisão',\n",
       " 'Grupo',\n",
       " 'Classe',\n",
       " 'Subclasse']"
      ]
     },
     "execution_count": 26,
     "metadata": {},
     "output_type": "execute_result"
    }
   ],
   "source": [
    "df.columns"
   ]
  },
  {
   "cell_type": "code",
   "execution_count": 27,
   "metadata": {},
   "outputs": [],
   "source": [
    "df = df.withColumnsRenamed(\n",
    "    {\n",
    "     'Código': 'code',\n",
    "     'Descrição': 'description', \n",
    "     'Unidade medida': 'unit_measure', \n",
    "     'Seção': 'section', \n",
    "     'Divisão': 'division',\n",
    "     'Grupo': 'group', \n",
    "     'Classe': 'class', \n",
    "     'Subclasse': 'subclass'\n",
    "     }\n",
    ")"
   ]
  },
  {
   "cell_type": "code",
   "execution_count": 28,
   "metadata": {},
   "outputs": [
    {
     "name": "stdout",
     "output_type": "stream",
     "text": [
      "root\n",
      " |-- code: long (nullable = true)\n",
      " |-- description: string (nullable = true)\n",
      " |-- unit_measure: string (nullable = true)\n",
      " |-- CPC: long (nullable = true)\n",
      " |-- section: string (nullable = true)\n",
      " |-- division: string (nullable = true)\n",
      " |-- group: string (nullable = true)\n",
      " |-- class: string (nullable = true)\n",
      " |-- subclass: double (nullable = true)\n",
      "\n"
     ]
    }
   ],
   "source": [
    "df.printSchema()"
   ]
  },
  {
   "cell_type": "markdown",
   "metadata": {},
   "source": [
    "# Exporting the data"
   ]
  },
  {
   "cell_type": "code",
   "execution_count": 29,
   "metadata": {},
   "outputs": [],
   "source": [
    "df.write.mode(\"overwrite\").option(\"header\",\"True\").csv(\"./data\")"
   ]
  },
  {
   "cell_type": "code",
   "execution_count": 30,
   "metadata": {},
   "outputs": [
    {
     "data": {
      "text/plain": [
       "Row(_c0='code', _c1='description', _c2='unit_measure', _c3='CPC', _c4='section', _c5='division', _c6='group', _c7='class', _c8='subclass')"
      ]
     },
     "execution_count": 30,
     "metadata": {},
     "output_type": "execute_result"
    }
   ],
   "source": [
    "spark.read.csv(\"./data\").head()"
   ]
  }
 ],
 "metadata": {
  "kernelspec": {
   "display_name": "Python 3",
   "language": "python",
   "name": "python3"
  },
  "language_info": {
   "codemirror_mode": {
    "name": "ipython",
    "version": 3
   },
   "file_extension": ".py",
   "mimetype": "text/x-python",
   "name": "python",
   "nbconvert_exporter": "python",
   "pygments_lexer": "ipython3",
   "version": "3.11.3"
  },
  "orig_nbformat": 4
 },
 "nbformat": 4,
 "nbformat_minor": 2
}
