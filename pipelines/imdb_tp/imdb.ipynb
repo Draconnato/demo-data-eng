{
 "cells": [
  {
   "cell_type": "markdown",
   "metadata": {},
   "source": [
    "# Importing and exploring the data"
   ]
  },
  {
   "cell_type": "code",
   "execution_count": 20,
   "metadata": {},
   "outputs": [],
   "source": [
    "from pyspark.sql import SparkSession\n",
    "from pyspark.sql.functions import *"
   ]
  },
  {
   "cell_type": "code",
   "execution_count": 21,
   "metadata": {},
   "outputs": [
    {
     "data": {
      "text/plain": [
       "'3.5.1'"
      ]
     },
     "execution_count": 21,
     "metadata": {},
     "output_type": "execute_result"
    }
   ],
   "source": [
    "spark = SparkSession \\\n",
    "    .builder \\\n",
    "    .appName(\"imdb\") \\\n",
    "    .getOrCreate()\n",
    "\n",
    "spark.version"
   ]
  },
  {
   "cell_type": "code",
   "execution_count": 22,
   "metadata": {},
   "outputs": [
    {
     "name": "stdout",
     "output_type": "stream",
     "text": [
      "root\n",
      " |-- tconst: string (nullable = true)\n",
      " |-- averageRating: double (nullable = true)\n",
      " |-- numVotes: integer (nullable = true)\n",
      "\n"
     ]
    }
   ],
   "source": [
    "df_ratings = spark.read.csv(\"./data/title_ratings.tsv\", header=True, sep='\\t', inferSchema=True)\n",
    "df_ratings.printSchema()"
   ]
  },
  {
   "cell_type": "code",
   "execution_count": 38,
   "metadata": {},
   "outputs": [
    {
     "name": "stdout",
     "output_type": "stream",
     "text": [
      "root\n",
      " |-- tconst: string (nullable = true)\n",
      " |-- titleType: string (nullable = true)\n",
      " |-- primaryTitle: string (nullable = true)\n",
      " |-- originalTitle: string (nullable = true)\n",
      " |-- isAdult: string (nullable = true)\n",
      " |-- startYear: string (nullable = true)\n",
      " |-- endYear: string (nullable = true)\n",
      " |-- runtimeMinutes: string (nullable = true)\n",
      " |-- genres: string (nullable = true)\n",
      "\n"
     ]
    }
   ],
   "source": [
    "df_basics = spark.read.csv(\"./data/title_basics.tsv\", header=True, sep='\\t',quote='')\n",
    "df_basics.printSchema()"
   ]
  },
  {
   "cell_type": "code",
   "execution_count": 24,
   "metadata": {},
   "outputs": [
    {
     "data": {
      "text/plain": [
       "[Row(tconst='tt0000001', titleType='short', primaryTitle='Carmencita', originalTitle='Carmencita', isAdult='0', startYear='1894', endYear='\\\\N', runtimeMinutes='1', genres='Documentary,Short'),\n",
       " Row(tconst='tt0000002', titleType='short', primaryTitle='Le clown et ses chiens', originalTitle='Le clown et ses chiens', isAdult='0', startYear='1892', endYear='\\\\N', runtimeMinutes='5', genres='Animation,Short'),\n",
       " Row(tconst='tt0000003', titleType='short', primaryTitle='Pauvre Pierrot', originalTitle='Pauvre Pierrot', isAdult='0', startYear='1892', endYear='\\\\N', runtimeMinutes='4', genres='Animation,Comedy,Romance'),\n",
       " Row(tconst='tt0000004', titleType='short', primaryTitle='Un bon bock', originalTitle='Un bon bock', isAdult='0', startYear='1892', endYear='\\\\N', runtimeMinutes='12', genres='Animation,Short'),\n",
       " Row(tconst='tt0000005', titleType='short', primaryTitle='Blacksmith Scene', originalTitle='Blacksmith Scene', isAdult='0', startYear='1893', endYear='\\\\N', runtimeMinutes='1', genres='Comedy,Short')]"
      ]
     },
     "execution_count": 24,
     "metadata": {},
     "output_type": "execute_result"
    }
   ],
   "source": [
    "df_basics.head(5)"
   ]
  },
  {
   "cell_type": "code",
   "execution_count": 25,
   "metadata": {},
   "outputs": [
    {
     "name": "stdout",
     "output_type": "stream",
     "text": [
      "+------------+\n",
      "|   titleType|\n",
      "+------------+\n",
      "|    tvSeries|\n",
      "|tvMiniSeries|\n",
      "|     tvMovie|\n",
      "|   tvEpisode|\n",
      "|       movie|\n",
      "|   tvSpecial|\n",
      "|       video|\n",
      "|   videoGame|\n",
      "|     tvShort|\n",
      "|       short|\n",
      "|     tvPilot|\n",
      "| radioSeries|\n",
      "|radioEpisode|\n",
      "+------------+\n",
      "\n"
     ]
    }
   ],
   "source": [
    "df_basics.select('titleType').distinct().show()"
   ]
  },
  {
   "cell_type": "markdown",
   "metadata": {},
   "source": [
    "# Start Of questions"
   ]
  },
  {
   "cell_type": "code",
   "execution_count": 26,
   "metadata": {},
   "outputs": [
    {
     "data": {
      "text/plain": [
       "19987"
      ]
     },
     "execution_count": 26,
     "metadata": {},
     "output_type": "execute_result"
    }
   ],
   "source": [
    "amount_movies = df_basics \\\n",
    "                .filter(\n",
    "                    (col('startYear') == '2015') &\n",
    "                    (col('titleType').isin('tvMovie','movie'))\n",
    "                ) \\\n",
    "                .select(col('tconst')) \\\n",
    "                .distinct() \\\n",
    "                .count() \n",
    "amount_movies"
   ]
  },
  {
   "cell_type": "code",
   "execution_count": 27,
   "metadata": {},
   "outputs": [
    {
     "name": "stdout",
     "output_type": "stream",
     "text": [
      "+--------------+-------+\n",
      "|genres_splited|  count|\n",
      "+--------------+-------+\n",
      "|         Drama|2247995|\n",
      "|        Comedy|1653725|\n",
      "|         Short|1021850|\n",
      "|     Talk-Show| 900198|\n",
      "|   Documentary| 764885|\n",
      "|       Romance| 724729|\n",
      "|            \\N| 643012|\n",
      "|        Family| 571470|\n",
      "|          News| 524662|\n",
      "|    Reality-TV| 423455|\n",
      "|     Animation| 406284|\n",
      "|         Music| 394008|\n",
      "|         Crime| 351447|\n",
      "|        Action| 334580|\n",
      "|     Adventure| 324325|\n",
      "|     Game-Show| 252533|\n",
      "|         Adult| 242704|\n",
      "|         Sport| 178594|\n",
      "|       Fantasy| 174119|\n",
      "|       Mystery| 162448|\n",
      "+--------------+-------+\n",
      "only showing top 20 rows\n",
      "\n"
     ]
    }
   ],
   "source": [
    "most_frequent_gender = df_basics \\\n",
    "            .withColumn('genres_splited',explode(split(col('genres'),','))) \\\n",
    "            .groupBy('genres_splited') \\\n",
    "            .count() \\\n",
    "            .orderBy(desc('count')) \\\n",
    "            .show()"
   ]
  },
  {
   "cell_type": "code",
   "execution_count": 28,
   "metadata": {},
   "outputs": [
    {
     "name": "stdout",
     "output_type": "stream",
     "text": [
      "+--------------+------------------+\n",
      "|genres_splited|        avg_rating|\n",
      "+--------------+------------------+\n",
      "|       History| 7.353780102645078|\n",
      "|   Documentary|7.2401985355545975|\n",
      "|     Biography| 7.175531914893612|\n",
      "|       Mystery| 7.170086406897919|\n",
      "|         Crime| 7.159842868485965|\n",
      "|     Adventure|  7.10762970335177|\n",
      "|       Fantasy|7.0951456508453745|\n",
      "|     Animation| 7.089381171483263|\n",
      "|       Western| 7.080683426568716|\n",
      "|        Family| 7.070054926034488|\n",
      "|         Drama| 7.040979155040174|\n",
      "|           War| 7.009115134414925|\n",
      "|        Action|7.0070981387478986|\n",
      "|         Sport| 6.966792418526435|\n",
      "|        Comedy|6.9600165509183896|\n",
      "|         Music| 6.927469624015719|\n",
      "|    Reality-TV| 6.892611170895959|\n",
      "|     Game-Show| 6.876828101904184|\n",
      "|       Romance|  6.86401616470397|\n",
      "|         Short| 6.791292438368536|\n",
      "+--------------+------------------+\n",
      "only showing top 20 rows\n",
      "\n"
     ]
    }
   ],
   "source": [
    "best_rating_avg = df_ratings \\\n",
    "    .join(df_basics,'tconst','left') \\\n",
    "    .withColumn('genres_splited',explode(split(col('genres'),','))) \\\n",
    "    .groupBy('genres_splited') \\\n",
    "    .agg(mean('averageRating').alias('avg_rating')) \\\n",
    "    .orderBy(desc('avg_rating')) \\\n",
    "    .show()"
   ]
  },
  {
   "cell_type": "code",
   "execution_count": 35,
   "metadata": {},
   "outputs": [
    {
     "name": "stdout",
     "output_type": "stream",
     "text": [
      "+--------------------+----------+\n",
      "|        primaryTitle|avg_rating|\n",
      "+--------------------+----------+\n",
      "|     Half-Life: Alyx|       9.5|\n",
      "|   Ghost of Tsushima|       9.3|\n",
      "|               Omori|       9.2|\n",
      "|Final Fantasy VII...|       9.1|\n",
      "|Ori and the Will ...|       9.1|\n",
      "|Mega Man Zero/ZX ...|       8.9|\n",
      "|There Is No Game:...|       8.9|\n",
      "|Yakuza: Like a Dr...|       8.8|\n",
      "|Xenoblade Chronic...|       8.8|\n",
      "|       Demon's Souls|       8.8|\n",
      "|   Pixel Ripped 1995|       8.7|\n",
      "|        Doom Eternal|       8.7|\n",
      "|Spider-Man: Miles...|       8.6|\n",
      "|    Astro's Playroom|       8.6|\n",
      "|Call of Duty: Mod...|       8.5|\n",
      "|               Haven|       8.5|\n",
      "|Animal Crossing: ...|       8.4|\n",
      "|      Desperados III|       8.4|\n",
      "|        Pumpkin Jack|       8.4|\n",
      "|Assassin's Creed ...|       8.3|\n",
      "+--------------------+----------+\n",
      "only showing top 20 rows\n",
      "\n"
     ]
    }
   ],
   "source": [
    "adventure_game_best_rating = df_ratings \\\n",
    "    .join(df_basics,'tconst','left') \\\n",
    "    .withColumn('genres_splited',explode(split(col('genres'),','))) \\\n",
    "    .filter((col('genres_splited') == 'Adventure') & (col('titleType') == 'videoGame') & (col('startYear')=='2020')) \\\n",
    "    .groupBy('primaryTitle') \\\n",
    "    .agg(mean('averageRating').alias('avg_rating')) \\\n",
    "    .orderBy(desc('avg_rating')) \\\n",
    "    .show()"
   ]
  },
  {
   "cell_type": "code",
   "execution_count": null,
   "metadata": {},
   "outputs": [
    {
     "data": {
      "text/plain": [
       "3931670"
      ]
     },
     "execution_count": 10,
     "metadata": {},
     "output_type": "execute_result"
    }
   ],
   "source": [
    "different_movie_titles = df_basics \\\n",
    "                        .select('primaryTitle') \\\n",
    "                        .distinct() \\\n",
    "                        .count()\n",
    "\n",
    "different_movie_titles"
   ]
  },
  {
   "cell_type": "code",
   "execution_count": 40,
   "metadata": {},
   "outputs": [
    {
     "name": "stdout",
     "output_type": "stream",
     "text": [
      "+-------+---------+---------+--------------------+--------------------+--------------------+------------------+------------------+-----------------+------+\n",
      "|summary|   tconst|titleType|        primaryTitle|       originalTitle|             isAdult|         startYear|           endYear|   runtimeMinutes|genres|\n",
      "+-------+---------+---------+--------------------+--------------------+--------------------+------------------+------------------+-----------------+------+\n",
      "|  count|   250127|   250127|              250127|              250127|              250127|            250127|            250127|           250127|250127|\n",
      "|   mean|     NULL|     NULL|            Infinity|            Infinity|                 1.0|2009.9655151651386|2013.4869358669835|92.79938555059914|  NULL|\n",
      "| stddev|     NULL|     NULL|                 NaN|                 NaN|8.419114939288556...|  9.11649111677599|6.1985363378455185|57.18982244754774|  NULL|\n",
      "|    min|tt0060313|    movie|\"A Different Side...|\"A Different Side...|                   1|              1901|              1980|                1|Action|\n",
      "|    max|tt9916266|videoGame|öffentliche Demüt...|öffentliche Demüt...|                   1|                \\N|                \\N|               \\N|    \\N|\n",
      "+-------+---------+---------+--------------------+--------------------+--------------------+------------------+------------------+-----------------+------+\n",
      "\n"
     ]
    }
   ],
   "source": [
    "adult_content_duration_avg = df_basics \\\n",
    "                            .filter(col('isAdult')==1) \\\n",
    "                            .describe() \\\n",
    "                            .show()         "
   ]
  },
  {
   "cell_type": "code",
   "execution_count": null,
   "metadata": {},
   "outputs": [
    {
     "data": {
      "text/plain": [
       "125056"
      ]
     },
     "execution_count": 12,
     "metadata": {},
     "output_type": "execute_result"
    }
   ],
   "source": [
    "movies_w_diff_title = df_basics \\\n",
    "                    .filter(col('primaryTitle') != col('originalTitle')) \\\n",
    "                    .distinct() \\\n",
    "                    .count()\n",
    "movies_w_diff_title"
   ]
  },
  {
   "cell_type": "code",
   "execution_count": null,
   "metadata": {},
   "outputs": [
    {
     "name": "stdout",
     "output_type": "stream",
     "text": [
      "+----------+---------+--------------------+--------------------+-------+---------+-------+--------------+--------------------+\n",
      "|    tconst|titleType|        primaryTitle|       originalTitle|isAdult|startYear|endYear|runtimeMinutes|              genres|\n",
      "+----------+---------+--------------------+--------------------+-------+---------+-------+--------------+--------------------+\n",
      "|tt12985206|    video|Otoko wa chi _ ko...|Otoko wa chi _ ko...|      1|     2020|     \\N|            99|               Adult|\n",
      "|tt13007080|    video|Creampie Voluntee...|Creampie Voluntee...|      1|     2015|     \\N|           238|               Adult|\n",
      "| tt7727908|    video|Yufukuna kurashi ...|Yufukuna kurashi ...|      1|     2013|     \\N|           129|         Adult,Drama|\n",
      "|tt12870546|    video|An Ultra K-Cup Ti...|An Ultra K-Cup Ti...|      1|     2020|     \\N|           118|               Adult|\n",
      "|tt12866892|    video|I'm A Dirty Old M...|I'm A Dirty Old M...|      1|     2016|     \\N|            \\N|               Adult|\n",
      "| tt7395478|    video|'Oppai dakenara s...|'Oppai dakenara s...|      1|     2017|     \\N|           241|               Adult|\n",
      "|tt13558536|    video|While Horsing Aro...|While Horsing Aro...|      1|     2020|     \\N|           102|               Adult|\n",
      "|tt13053838|    video|The Dumb Cunt Is ...|The Dumb Cunt Is ...|      1|     2020|     \\N|           112|               Adult|\n",
      "|tt13931914|tvEpisode|EE.UU. Se replieg...|EE.UU. Se replieg...|      0|     2019|     \\N|            \\N|                  \\N|\n",
      "| tt7509356|    video|Kanojo ni furaret...|Kanojo ni furaret...|      1|     2017|     \\N|           101|               Adult|\n",
      "|tt13278010|    video|This Son Was Secr...|This Son Was Secr...|      1|     2019|     \\N|           135|               Adult|\n",
      "|tt10813978|tvEpisode|Y- the total ease...|Y- the total ease...|      0|     2019|     \\N|            \\N|Biography,Comedy,...|\n",
      "|tt13009172|    video|I'm the Silent Ty...|I'm the Silent Ty...|      1|     2020|     \\N|           121|               Adult|\n",
      "|tt14128648|    video|'No, No, No! Your...|'No, No, No! Your...|      1|     2021|     \\N|           232|               Adult|\n",
      "|tt13356578|    video|An Up Close and P...|An Up Close and P...|      1|     2017|     \\N|           147|               Adult|\n",
      "| tt7298012|    video|O nichan tanjobio...|O nichan tanjobio...|      1|     2015|     \\N|           114|               Adult|\n",
      "| tt6271822|    video|Shoshika no sakko...|Shoshika no sakko...|      1|     2016|     \\N|           129|               Adult|\n",
      "|tt13006210|    video|Raguju TV 1145 ke...|Raguju TV 1145 ke...|      1|     2019|     \\N|            76|               Adult|\n",
      "|tt12842848|    video|A Fantastic Disco...|A Fantastic Disco...|      1|     2018|     \\N|           148|               Adult|\n",
      "|tt13109506|    video|Jikappu binyu gek...|Jikappu binyu gek...|      1|     2020|     \\N|            76|               Adult|\n",
      "+----------+---------+--------------------+--------------------+-------+---------+-------+--------------+--------------------+\n",
      "only showing top 20 rows\n",
      "\n"
     ]
    },
    {
     "data": {
      "text/plain": [
       "'\\nIf we consider the filter \"movie\" consider in the question n12, then we have tconst = \\'tt8682654\\', which is not available in the possible answers.\\ndf_basics                         .filter(col(\\'titleType\\').isin(\\'movie\\',\\'tvMovie\\'))                         .orderBy(length(col(\"primaryTitle\")).desc())                         .show()\\n'"
      ]
     },
     "execution_count": 13,
     "metadata": {},
     "output_type": "execute_result"
    }
   ],
   "source": [
    "most_long_title_name = df_basics \\\n",
    "                        .orderBy(length(col(\"primaryTitle\")).desc()) \\\n",
    "                        .show()\n",
    "\n",
    "\"\"\"\n",
    "If we consider the filter \"movie\" consider in the question n12, then we have tconst = 'tt8682654', which is not available in the possible answers.\n",
    "df_basics \\\n",
    "                        .filter(col('titleType').isin('movie','tvMovie')) \\\n",
    "                        .orderBy(length(col(\"primaryTitle\")).desc()) \\\n",
    "                        .show()\n",
    "\"\"\""
   ]
  },
  {
   "cell_type": "code",
   "execution_count": null,
   "metadata": {},
   "outputs": [
    {
     "name": "stdout",
     "output_type": "stream",
     "text": [
      "+---------+-------------+--------+\n",
      "|   tconst|averageRating|numVotes|\n",
      "+---------+-------------+--------+\n",
      "|tt0111161|          9.3| 2449517|\n",
      "|tt0468569|          9.0| 2405191|\n",
      "|tt1375666|          8.8| 2157649|\n",
      "|tt0137523|          8.8| 1930108|\n",
      "|tt0110912|          8.9| 1898801|\n",
      "|tt0109830|          8.8| 1893438|\n",
      "|tt0944947|          9.2| 1861842|\n",
      "|tt0133093|          8.7| 1743487|\n",
      "|tt0120737|          8.8| 1723007|\n",
      "|tt0167260|          8.9| 1701824|\n",
      "|tt0068646|          9.2| 1695582|\n",
      "|tt0816692|          8.6| 1602096|\n",
      "|tt1345836|          8.4| 1570542|\n",
      "|tt0903747|          9.4| 1567066|\n",
      "|tt0167261|          8.7| 1538629|\n",
      "|tt0114369|          8.6| 1507762|\n",
      "|tt1853728|          8.4| 1418048|\n",
      "|tt0172495|          8.5| 1391926|\n",
      "|tt0372784|          8.2| 1354062|\n",
      "|tt0361748|          8.3| 1324955|\n",
      "+---------+-------------+--------+\n",
      "only showing top 20 rows\n",
      "\n"
     ]
    }
   ],
   "source": [
    "most_voted_movie = df_ratings.orderBy(desc('numVotes')).show()"
   ]
  },
  {
   "cell_type": "code",
   "execution_count": null,
   "metadata": {},
   "outputs": [
    {
     "name": "stdout",
     "output_type": "stream",
     "text": [
      "+----------+-------------+--------+\n",
      "|    tconst|averageRating|numVotes|\n",
      "+----------+-------------+--------+\n",
      "| tt5778264|          1.0|      27|\n",
      "| tt1990974|          1.0|      13|\n",
      "| tt1143217|          1.0|      40|\n",
      "| tt2139143|          1.0|      36|\n",
      "| tt0545951|          1.0|      14|\n",
      "| tt1995289|          1.0|     450|\n",
      "|tt11442214|          1.0|      19|\n",
      "| tt1964233|          1.0|      10|\n",
      "| tt0175201|          1.0|      19|\n",
      "| tt1998956|          1.0|      34|\n",
      "|tt11253082|          1.0|      78|\n",
      "| tt1934806|          1.0|    1665|\n",
      "| tt0588498|          1.0|     118|\n",
      "| tt1998958|          1.0|      33|\n",
      "|tt11450002|          1.0|       9|\n",
      "| tt1936801|          1.0|      68|\n",
      "| tt5964314|          1.0|      10|\n",
      "| tt2011220|          1.0|      17|\n",
      "| tt1085265|          1.0|      28|\n",
      "| tt1936803|          1.0|      38|\n",
      "+----------+-------------+--------+\n",
      "only showing top 20 rows\n",
      "\n"
     ]
    }
   ],
   "source": [
    "worst_note_movie = df_ratings.orderBy(asc('averageRating')).show()"
   ]
  }
 ],
 "metadata": {
  "kernelspec": {
   "display_name": "Python 3",
   "language": "python",
   "name": "python3"
  },
  "language_info": {
   "codemirror_mode": {
    "name": "ipython",
    "version": 3
   },
   "file_extension": ".py",
   "mimetype": "text/x-python",
   "name": "python",
   "nbconvert_exporter": "python",
   "pygments_lexer": "ipython3",
   "version": "3.11.3"
  }
 },
 "nbformat": 4,
 "nbformat_minor": 2
}
